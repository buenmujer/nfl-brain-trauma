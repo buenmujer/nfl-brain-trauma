{
 "cells": [
  {
   "cell_type": "markdown",
   "metadata": {},
   "source": [
    "### Import Libraries"
   ]
  },
  {
   "cell_type": "code",
   "execution_count": 1,
   "metadata": {
    "collapsed": true
   },
   "outputs": [],
   "source": [
    "import pandas as pd\n",
    "import numpy as np\n",
    "import seaborn as sns\n",
    "%matplotlib inline\n",
    "#import numpy as np\n",
    "import matplotlib.pyplot as plt\n",
    "import statsmodels\n",
    "#from scipy import stats\n",
    "\n",
    "#logistic regression\n",
    "import statsmodels.api as sm\n",
    "from patsy import dmatrices\n",
    "from sklearn import preprocessing\n",
    "from sklearn import linear_model\n",
    "from sklearn.linear_model import LogisticRegressionCV\n",
    "from sklearn.linear_model import LogisticRegression\n",
    "from sklearn.cross_validation import train_test_split\n",
    "from sklearn import metrics\n",
    "from sklearn.metrics import auc, accuracy_score, confusion_matrix, precision_recall_fscore_support, roc_curve\n",
    "from sklearn.metrics import precision_recall_curve\n",
    "from sklearn.cross_validation import cross_val_score\n",
    "from sklearn import datasets, linear_model, cross_validation, grid_search\n",
    "from sklearn.metrics import r2_score"
   ]
  },
  {
   "cell_type": "markdown",
   "metadata": {},
   "source": [
    "### Read in data "
   ]
  },
  {
   "cell_type": "code",
   "execution_count": 4,
   "metadata": {
    "collapsed": false
   },
   "outputs": [
    {
     "name": "stdout",
     "output_type": "stream",
     "text": [
      "<class 'pandas.core.frame.DataFrame'>\n",
      "RangeIndex: 157 entries, 0 to 156\n",
      "Data columns (total 26 columns):\n",
      "Unnamed: 0        157 non-null int64\n",
      "user_id           157 non-null int64\n",
      "classifier_RC     157 non-null int64\n",
      "classifier_hyb    157 non-null int64\n",
      "HSC               157 non-null int64\n",
      "LSC               157 non-null int64\n",
      "yrs_in_lg         157 non-null float64\n",
      "Seasons           157 non-null float64\n",
      "year_end          157 non-null float64\n",
      "age               157 non-null float64\n",
      "var_ofMean        157 non-null float64\n",
      "oneMean           157 non-null float64\n",
      "twoMean           157 non-null float64\n",
      "sixMean           157 non-null float64\n",
      "sevenMean         157 non-null float64\n",
      "eightMean         157 non-null float64\n",
      "nineMean          157 non-null float64\n",
      "tenMean           157 non-null float64\n",
      "elevMean          157 non-null float64\n",
      "twelMean          157 non-null float64\n",
      "thirtMean         157 non-null float64\n",
      "threeMean         157 non-null float64\n",
      "fourMean          157 non-null float64\n",
      "fiveMean          157 non-null float64\n",
      "fourtMean         157 non-null float64\n",
      "fiftMean          157 non-null float64\n",
      "dtypes: float64(20), int64(6)\n",
      "memory usage: 32.0 KB\n"
     ]
    }
   ],
   "source": [
    "df = pd.read_csv('/Users/karigoodman/Dropbox/InsightHealthDataScience/projects/data/general/NFL_scaledData.csv')\n",
    "df.info()"
   ]
  },
  {
   "cell_type": "markdown",
   "metadata": {},
   "source": [
    "### Calculate correlation among variables to identify any that are correlated above 0.75"
   ]
  },
  {
   "cell_type": "code",
   "execution_count": 6,
   "metadata": {
    "collapsed": false
   },
   "outputs": [
    {
     "data": {
      "text/plain": [
       "fiveMean   fourMean     0.849416\n",
       "eightMean  sevenMean    0.783724\n",
       "elevMean   fourMean     0.784808\n",
       "           fiveMean     0.846910\n",
       "fourtMean  thirtMean    0.774716\n",
       "fiftMean   tenMean      0.943816\n",
       "dtype: float64"
      ]
     },
     "execution_count": 6,
     "metadata": {},
     "output_type": "execute_result"
    }
   ],
   "source": [
    "features = df[['Seasons','age','var_ofMean','oneMean','twoMean','threeMean','fourMean','fiveMean',\n",
    "          'sixMean','sevenMean','eightMean','nineMean','tenMean','elevMean','twelMean','thirtMean',          \n",
    "          'fourtMean','fiftMean']]\n",
    "\n",
    "corr =  features.corr()\n",
    "corr.loc[:,:] =  np.tril(corr, k=-1)\n",
    "corr = corr.stack()\n",
    "corr[corr > 0.75]"
   ]
  },
  {
   "cell_type": "markdown",
   "metadata": {},
   "source": [
    "### Plot a correlation matrix"
   ]
  },
  {
   "cell_type": "code",
   "execution_count": 7,
   "metadata": {
    "collapsed": false
   },
   "outputs": [
    {
     "data": {
      "image/png": "[encoded data removed]",
      "text/plain": [
       "<matplotlib.figure.Figure at 0x1165a7b10>"
      ]
     },
     "metadata": {},
     "output_type": "display_data"
    }
   ],
   "source": [
    "def correlation_matrix(df):\n",
    "   import numpy as np\n",
    "   from matplotlib import pyplot as plt\n",
    "   from matplotlib import cm as cm\n",
    "\n",
    "   fig = plt.figure()\n",
    "   ax1 = fig.add_subplot(111)\n",
    "   cmap = cm.get_cmap('jet', 30)\n",
    "   cax = ax1.imshow(features.corr(), interpolation=\"nearest\", cmap=cmap)\n",
    "   ax1.grid(True)\n",
    "   plt.title('Correlation among  variables')\n",
    "#    labels=['Seasons','year_end','age','var_ofMean','oneMean','twoMean','threeMean','fourMean','fiveMean',\n",
    "#           'sixMean','sevenMean','eightMean','nineMean','tenMean','elevMean','twelMean','thirtMean',          \n",
    "#           'fourtMean','fiftMean']\n",
    "#    ax1.set_xticklabels(labels,fontsize=4)\n",
    "#    ax1.set_yticklabels(labels,fontsize=4)\n",
    "   # Add colorbar, make sure to specify tick locations to match desired ticklabels\n",
    "   cbar = fig.colorbar(cax)\n",
    "   plt.show()\n",
    "#, ticks=[-1.00, -0.75, -0.50, -0.25, 0,.25,.5,.75,1]\n",
    "\n",
    "correlation_matrix(features)"
   ]
  },
  {
   "cell_type": "markdown",
   "metadata": {},
   "source": [
    "### Select out data where individuals are unclassified (==2), leaving only those with classifications"
   ]
  },
  {
   "cell_type": "code",
   "execution_count": 8,
   "metadata": {
    "collapsed": true
   },
   "outputs": [],
   "source": [
    "df2 = df[df.classifier_hyb != 2]\n",
    "#df2.info()"
   ]
  },
  {
   "cell_type": "markdown",
   "metadata": {},
   "source": [
    "### Create a matrix of the desired data and split it into test and training data"
   ]
  },
  {
   "cell_type": "code",
   "execution_count": 9,
   "metadata": {
    "collapsed": false
   },
   "outputs": [],
   "source": [
    "featuresFULL = df2[['user_id','HSC', 'LSC', 'Seasons', 'age', 'var_ofMean', 'oneMean', 'twoMean', \n",
    "                    'threeMean', 'sixMean', 'sevenMean',\n",
    "                    'nineMean', 'tenMean','twelMean', 'thirtMean',\n",
    "                    'fourtMean']].as_matrix()\n",
    "targetFULL = df2[['user_id', 'classifier_hyb']].as_matrix()\n",
    "f_trainFULL, f_testFULL, t_train, t_test = train_test_split(featuresFULL, targetFULL, test_size=0.20, random_state=0)\n",
    "t_trainFULL = t_train[:,[1]]\n",
    "t_testFULL = t_test[:,[1]]"
   ]
  },
  {
   "cell_type": "code",
   "execution_count": null,
   "metadata": {
    "collapsed": true
   },
   "outputs": [],
   "source": [
    "#X = f_trainFULL[['HSC','Recall Memory (Visual)','Visual Information Processing',\n",
    "#                  'Recall Memory (Auditory)', 'Working Memory (Spatial Recall)', \n",
    "#                  'Multi-Systems Integration']]\n",
    "# sorted_renamed = sorted_imp_features.replace({'Model Features': {'HSC':  'High-Speed Contact Position', \n",
    "#                            'oneMean': \"Recall Memory (Visual)\", 'tenMean': 'Visual Information Processing',\n",
    "#                            'twoMean': 'Recall Memory (Auditory)', 'sevenMean': 'Working Memory (Spatial Recall)', \n",
    "#                            'twelMean': 'Multi-Systems Integration'}})\n",
    "\n",
    "\n",
    "#X = f_trainFULL[:,[0,5,6,9,11,12]]"
   ]
  },
  {
   "cell_type": "code",
   "execution_count": 10,
   "metadata": {
    "collapsed": false
   },
   "outputs": [
    {
     "data": {
      "text/plain": [
       "(123, 16)"
      ]
     },
     "execution_count": 10,
     "metadata": {},
     "output_type": "execute_result"
    }
   ],
   "source": [
    "f_trainFULL.shape"
   ]
  },
  {
   "cell_type": "code",
   "execution_count": 11,
   "metadata": {
    "collapsed": false
   },
   "outputs": [],
   "source": [
    "f_testFULL_R = f_testFULL.ravel()\n",
    "t_testFULL_R = t_testFULL.ravel()"
   ]
  },
  {
   "cell_type": "code",
   "execution_count": 12,
   "metadata": {
    "collapsed": false
   },
   "outputs": [
    {
     "data": {
      "text/plain": [
       "array([[  1.89000000e+03,   1.00000000e+00,   0.00000000e+00, ...,\n",
       "         -1.09959377e+00,   1.43208798e+00,   6.46879795e-01],\n",
       "       [  1.93600000e+03,   0.00000000e+00,   1.00000000e+00, ...,\n",
       "         -1.08067276e+00,  -5.93524141e-01,   8.97309328e-01],\n",
       "       [  2.08900000e+03,   1.00000000e+00,   0.00000000e+00, ...,\n",
       "         -1.09959377e+00,   6.87842281e-01,  -2.33874840e-02],\n",
       "       ..., \n",
       "       [  1.80200000e+03,   1.00000000e+00,   0.00000000e+00, ...,\n",
       "         -1.16014102e+00,  -4.94057341e-01,  -1.22643132e+00],\n",
       "       [  2.09700000e+03,   0.00000000e+00,   1.00000000e+00, ...,\n",
       "         -1.09959377e+00,   9.33583786e-01,   1.06303475e+00],\n",
       "       [  2.11500000e+03,   1.00000000e+00,   0.00000000e+00, ...,\n",
       "         -4.83309299e-01,  -1.21790817e+00,  -1.03878454e+00]])"
      ]
     },
     "execution_count": 12,
     "metadata": {},
     "output_type": "execute_result"
    }
   ],
   "source": [
    "f_trainFULL"
   ]
  },
  {
   "cell_type": "markdown",
   "metadata": {},
   "source": [
    "### Save the user IDs and classifications into a dataframe to be combined back later"
   ]
  },
  {
   "cell_type": "code",
   "execution_count": 13,
   "metadata": {
    "collapsed": false
   },
   "outputs": [],
   "source": [
    "#keep all the user IDs and classifications in a dataframe for later\n",
    "userID_class = pd.DataFrame(targetFULL)\n",
    "userID_class.columns = ['user_id','classification']\n",
    "\n",
    "#keep just the test user IDs and classifications in a dataframe for later\n",
    "test_userID_class = pd.DataFrame(t_test)\n",
    "test_userID_class.columns = ['user_id','classification']"
   ]
  },
  {
   "cell_type": "markdown",
   "metadata": {},
   "source": [
    "### Instantiate a logistic regression model, and fit with X and y"
   ]
  },
  {
   "cell_type": "code",
   "execution_count": 18,
   "metadata": {
    "collapsed": false
   },
   "outputs": [
    {
     "name": "stdout",
     "output_type": "stream",
     "text": [
      "0.79674796748 0.838709677419\n"
     ]
    }
   ],
   "source": [
    "model = LogisticRegression(penalty='l1',C=0.5, random_state=4)\n",
    "model_fit = model.fit(f_trainFULL, t_trainFULL.ravel())\n",
    "\n",
    "# check the accuracy on the training and test sets\n",
    "print model_fit.score(f_trainFULL, t_trainFULL.ravel()), model_fit.score(f_testFULL, t_testFULL.ravel())"
   ]
  },
  {
   "cell_type": "code",
   "execution_count": 33,
   "metadata": {
    "collapsed": false
   },
   "outputs": [],
   "source": [
    "#r2 \n",
    "#r2_score(t_testFULL, predicted)  "
   ]
  },
  {
   "cell_type": "code",
   "execution_count": 20,
   "metadata": {
    "collapsed": false
   },
   "outputs": [
    {
     "data": {
      "text/plain": [
       "(123,)"
      ]
     },
     "execution_count": 20,
     "metadata": {},
     "output_type": "execute_result"
    }
   ],
   "source": [
    "y_arr = t_trainFULL.ravel()\n",
    "y_arr.shape"
   ]
  },
  {
   "cell_type": "markdown",
   "metadata": {},
   "source": [
    "### Evaluate the model using 10-fold cross-validation"
   ]
  },
  {
   "cell_type": "code",
   "execution_count": 21,
   "metadata": {
    "collapsed": false
   },
   "outputs": [
    {
     "name": "stdout",
     "output_type": "stream",
     "text": [
      "[ 0.92307692  0.76923077  0.76923077  0.61538462  0.75        0.83333333\n",
      "  0.5         0.66666667  0.91666667  0.81818182]\n",
      "0.756177156177\n"
     ]
    }
   ],
   "source": [
    "cv_scores = cross_val_score(LogisticRegression(penalty='l1', C=0.5, random_state=4), \n",
    "                            f_trainFULL, y_arr, scoring='accuracy', cv=10)\n",
    "print cv_scores\n",
    "print cv_scores.mean()"
   ]
  },
  {
   "cell_type": "markdown",
   "metadata": {},
   "source": [
    "### Inspect model coefficients"
   ]
  },
  {
   "cell_type": "code",
   "execution_count": 22,
   "metadata": {
    "collapsed": false
   },
   "outputs": [
    {
     "data": {
      "text/html": [
       "<div>\n",
       "<table border=\"1\" class=\"dataframe\">\n",
       "  <thead>\n",
       "    <tr style=\"text-align: right;\">\n",
       "      <th></th>\n",
       "      <th>Model Features</th>\n",
       "      <th>coefficients</th>\n",
       "    </tr>\n",
       "  </thead>\n",
       "  <tbody>\n",
       "    <tr>\n",
       "      <th>1</th>\n",
       "      <td>LSC</td>\n",
       "      <td>0.301896</td>\n",
       "    </tr>\n",
       "    <tr>\n",
       "      <th>2</th>\n",
       "      <td>Seasons</td>\n",
       "      <td>0.000000</td>\n",
       "    </tr>\n",
       "    <tr>\n",
       "      <th>4</th>\n",
       "      <td>var_ofMean</td>\n",
       "      <td>0.000000</td>\n",
       "    </tr>\n",
       "    <tr>\n",
       "      <th>5</th>\n",
       "      <td>oneMean</td>\n",
       "      <td>0.000000</td>\n",
       "    </tr>\n",
       "    <tr>\n",
       "      <th>8</th>\n",
       "      <td>sixMean</td>\n",
       "      <td>0.000000</td>\n",
       "    </tr>\n",
       "    <tr>\n",
       "      <th>9</th>\n",
       "      <td>sevenMean</td>\n",
       "      <td>0.000000</td>\n",
       "    </tr>\n",
       "    <tr>\n",
       "      <th>11</th>\n",
       "      <td>nineMean</td>\n",
       "      <td>0.000000</td>\n",
       "    </tr>\n",
       "    <tr>\n",
       "      <th>12</th>\n",
       "      <td>tenMean</td>\n",
       "      <td>0.000000</td>\n",
       "    </tr>\n",
       "    <tr>\n",
       "      <th>15</th>\n",
       "      <td>fourtMean</td>\n",
       "      <td>0.000000</td>\n",
       "    </tr>\n",
       "    <tr>\n",
       "      <th>0</th>\n",
       "      <td>HSC</td>\n",
       "      <td>-0.000610</td>\n",
       "    </tr>\n",
       "    <tr>\n",
       "      <th>3</th>\n",
       "      <td>age</td>\n",
       "      <td>-0.059383</td>\n",
       "    </tr>\n",
       "    <tr>\n",
       "      <th>14</th>\n",
       "      <td>thirtMean</td>\n",
       "      <td>-0.094106</td>\n",
       "    </tr>\n",
       "    <tr>\n",
       "      <th>13</th>\n",
       "      <td>twelMean</td>\n",
       "      <td>-0.175543</td>\n",
       "    </tr>\n",
       "    <tr>\n",
       "      <th>10</th>\n",
       "      <td>eightMean</td>\n",
       "      <td>-0.389239</td>\n",
       "    </tr>\n",
       "    <tr>\n",
       "      <th>6</th>\n",
       "      <td>twoMean</td>\n",
       "      <td>-0.415714</td>\n",
       "    </tr>\n",
       "    <tr>\n",
       "      <th>7</th>\n",
       "      <td>threeMean</td>\n",
       "      <td>-0.497525</td>\n",
       "    </tr>\n",
       "  </tbody>\n",
       "</table>\n",
       "</div>"
      ],
      "text/plain": [
       "   Model Features  coefficients\n",
       "1             LSC      0.301896\n",
       "2         Seasons      0.000000\n",
       "4      var_ofMean      0.000000\n",
       "5         oneMean      0.000000\n",
       "8         sixMean      0.000000\n",
       "9       sevenMean      0.000000\n",
       "11       nineMean      0.000000\n",
       "12        tenMean      0.000000\n",
       "15      fourtMean      0.000000\n",
       "0             HSC     -0.000610\n",
       "3             age     -0.059383\n",
       "14      thirtMean     -0.094106\n",
       "13       twelMean     -0.175543\n",
       "10      eightMean     -0.389239\n",
       "6         twoMean     -0.415714\n",
       "7       threeMean     -0.497525"
      ]
     },
     "execution_count": 22,
     "metadata": {},
     "output_type": "execute_result"
    }
   ],
   "source": [
    "model.coef_\n",
    "coef_transpose = np.transpose(model.coef_)\n",
    "features = df2[['HSC', 'LSC', 'Seasons', 'age', 'var_ofMean', 'oneMean', 'twoMean', \n",
    "                    'threeMean',  'sixMean', 'sevenMean',\n",
    "                    'eightMean', 'nineMean', 'tenMean',  'twelMean', 'thirtMean',\n",
    "                    'fourtMean']]\n",
    "feature_nm=list(features)\n",
    "feature_names = pd.DataFrame(feature_nm)\n",
    "coefficients = pd.DataFrame(coef_transpose)\n",
    "feature_coef = pd.merge(left=feature_names, right=coefficients, left_index=True, right_index=True)\n",
    "feature_coef.columns = ['Model Features','coefficients'] \n",
    "sorted = feature_coef.sort_values(by='coefficients', ascending=0)\n",
    "sorted"
   ]
  },
  {
   "cell_type": "markdown",
   "metadata": {},
   "source": [
    "### Reduce the set of features to just plot the important ones"
   ]
  },
  {
   "cell_type": "code",
   "execution_count": 23,
   "metadata": {
    "collapsed": false
   },
   "outputs": [
    {
     "data": {
      "text/html": [
       "<div>\n",
       "<table border=\"1\" class=\"dataframe\">\n",
       "  <thead>\n",
       "    <tr style=\"text-align: right;\">\n",
       "      <th></th>\n",
       "      <th>Model Features</th>\n",
       "      <th>coefficients</th>\n",
       "    </tr>\n",
       "  </thead>\n",
       "  <tbody>\n",
       "    <tr>\n",
       "      <th>1</th>\n",
       "      <td>LSC</td>\n",
       "      <td>0.301896</td>\n",
       "    </tr>\n",
       "    <tr>\n",
       "      <th>3</th>\n",
       "      <td>age</td>\n",
       "      <td>-0.059383</td>\n",
       "    </tr>\n",
       "    <tr>\n",
       "      <th>14</th>\n",
       "      <td>thirtMean</td>\n",
       "      <td>-0.094106</td>\n",
       "    </tr>\n",
       "    <tr>\n",
       "      <th>13</th>\n",
       "      <td>Multi-Systems Integration</td>\n",
       "      <td>-0.175543</td>\n",
       "    </tr>\n",
       "    <tr>\n",
       "      <th>10</th>\n",
       "      <td>eightMean</td>\n",
       "      <td>-0.389239</td>\n",
       "    </tr>\n",
       "    <tr>\n",
       "      <th>6</th>\n",
       "      <td>Recall Memory (Auditory)</td>\n",
       "      <td>-0.415714</td>\n",
       "    </tr>\n",
       "  </tbody>\n",
       "</table>\n",
       "</div>"
      ],
      "text/plain": [
       "               Model Features  coefficients\n",
       "1                         LSC      0.301896\n",
       "3                         age     -0.059383\n",
       "14                  thirtMean     -0.094106\n",
       "13  Multi-Systems Integration     -0.175543\n",
       "10                  eightMean     -0.389239\n",
       "6    Recall Memory (Auditory)     -0.415714"
      ]
     },
     "execution_count": 23,
     "metadata": {},
     "output_type": "execute_result"
    }
   ],
   "source": [
    "sorted2 = sorted.iloc[[0]]\n",
    "sorted3 = sorted.iloc[10:15]\n",
    "sorted_imp_features = pd.concat([sorted2, sorted3], axis=0)\n",
    "sorted_renamed = sorted_imp_features.replace({'Model Features': {'HSC':  'High-Speed Contact Position', \n",
    "                           'oneMean': \"Recall Memory (Visual)\", 'tenMean': 'Visual Information Processing',\n",
    "                           'twoMean': 'Recall Memory (Auditory)', 'sevenMean': 'Working Memory (Spatial Recall)', \n",
    "                           'twelMean': 'Multi-Systems Integration'}})\n",
    "sorted_renamed"
   ]
  },
  {
   "cell_type": "markdown",
   "metadata": {},
   "source": [
    "### Plot the results"
   ]
  },
  {
   "cell_type": "code",
   "execution_count": 24,
   "metadata": {
    "collapsed": false
   },
   "outputs": [
    {
     "data": {
      "image/png": "[encoded data removed]",
      "text/plain": [
       "<matplotlib.figure.Figure at 0x116511990>"
      ]
     },
     "metadata": {},
     "output_type": "display_data"
    }
   ],
   "source": [
    "import seaborn as sns\n",
    "sns.set_style(\"whitegrid\")\n",
    "tips = sns.load_dataset(\"tips\")\n",
    "\n",
    "sns.set(font_scale=1.5)\n",
    "ax = sns.barplot(x=\"coefficients\", y=\"Model Features\", data=sorted_renamed)"
   ]
  },
  {
   "cell_type": "markdown",
   "metadata": {},
   "source": [
    "### Calculate correlation among these variables to ensure none are correlated above 0.75 - as expected, none are."
   ]
  },
  {
   "cell_type": "code",
   "execution_count": 25,
   "metadata": {
    "collapsed": false
   },
   "outputs": [
    {
     "data": {
      "text/plain": [
       "Series([], dtype: float64)"
      ]
     },
     "execution_count": 25,
     "metadata": {},
     "output_type": "execute_result"
    }
   ],
   "source": [
    "featuresFULL = df2[['HSC',  'oneMean', 'twoMean', 'sevenMean','twelMean']]\n",
    "\n",
    "corr =  featuresFULL.corr()\n",
    "corr.loc[:,:] =  np.tril(corr, k=-1)\n",
    "corr = corr.stack()\n",
    "corr[corr > 0.75]"
   ]
  },
  {
   "cell_type": "code",
   "execution_count": 29,
   "metadata": {
    "collapsed": false
   },
   "outputs": [
    {
     "data": {
      "text/html": [
       "<div>\n",
       "<table border=\"1\" class=\"dataframe\">\n",
       "  <thead>\n",
       "    <tr style=\"text-align: right;\">\n",
       "      <th></th>\n",
       "      <th>0</th>\n",
       "      <th>1</th>\n",
       "      <th>2</th>\n",
       "      <th>3</th>\n",
       "      <th>4</th>\n",
       "      <th>5</th>\n",
       "      <th>6</th>\n",
       "      <th>7</th>\n",
       "      <th>8</th>\n",
       "      <th>9</th>\n",
       "      <th>10</th>\n",
       "      <th>11</th>\n",
       "      <th>12</th>\n",
       "      <th>13</th>\n",
       "      <th>14</th>\n",
       "      <th>15</th>\n",
       "    </tr>\n",
       "  </thead>\n",
       "  <tbody>\n",
       "    <tr>\n",
       "      <th>0</th>\n",
       "      <td>1890.0</td>\n",
       "      <td>1.0</td>\n",
       "      <td>0.0</td>\n",
       "      <td>1.325174</td>\n",
       "      <td>-0.596466</td>\n",
       "      <td>-0.026240</td>\n",
       "      <td>0.220471</td>\n",
       "      <td>-0.946889</td>\n",
       "      <td>0.125720</td>\n",
       "      <td>1.152248</td>\n",
       "      <td>1.061059</td>\n",
       "      <td>1.133625</td>\n",
       "      <td>0.712520</td>\n",
       "      <td>-1.099594</td>\n",
       "      <td>1.432088</td>\n",
       "      <td>0.646880</td>\n",
       "    </tr>\n",
       "    <tr>\n",
       "      <th>1</th>\n",
       "      <td>1936.0</td>\n",
       "      <td>0.0</td>\n",
       "      <td>1.0</td>\n",
       "      <td>-0.945520</td>\n",
       "      <td>0.067684</td>\n",
       "      <td>1.632296</td>\n",
       "      <td>-0.538470</td>\n",
       "      <td>-0.494453</td>\n",
       "      <td>-1.265175</td>\n",
       "      <td>0.387059</td>\n",
       "      <td>-1.358391</td>\n",
       "      <td>-0.284778</td>\n",
       "      <td>-0.767869</td>\n",
       "      <td>-1.080673</td>\n",
       "      <td>-0.593524</td>\n",
       "      <td>0.897309</td>\n",
       "    </tr>\n",
       "    <tr>\n",
       "      <th>2</th>\n",
       "      <td>2089.0</td>\n",
       "      <td>1.0</td>\n",
       "      <td>0.0</td>\n",
       "      <td>-0.661683</td>\n",
       "      <td>-0.015335</td>\n",
       "      <td>-0.448337</td>\n",
       "      <td>-0.348735</td>\n",
       "      <td>0.242468</td>\n",
       "      <td>1.266725</td>\n",
       "      <td>0.925663</td>\n",
       "      <td>1.049592</td>\n",
       "      <td>0.323109</td>\n",
       "      <td>0.865663</td>\n",
       "      <td>-1.099594</td>\n",
       "      <td>0.687842</td>\n",
       "      <td>-0.023387</td>\n",
       "    </tr>\n",
       "    <tr>\n",
       "      <th>3</th>\n",
       "      <td>2110.0</td>\n",
       "      <td>1.0</td>\n",
       "      <td>0.0</td>\n",
       "      <td>0.757501</td>\n",
       "      <td>-0.762504</td>\n",
       "      <td>-0.690166</td>\n",
       "      <td>-1.155110</td>\n",
       "      <td>-1.351339</td>\n",
       "      <td>-1.321753</td>\n",
       "      <td>-0.578715</td>\n",
       "      <td>-0.962794</td>\n",
       "      <td>0.167904</td>\n",
       "      <td>-0.002151</td>\n",
       "      <td>0.716824</td>\n",
       "      <td>-0.312677</td>\n",
       "      <td>-0.391666</td>\n",
       "    </tr>\n",
       "    <tr>\n",
       "      <th>4</th>\n",
       "      <td>2259.0</td>\n",
       "      <td>1.0</td>\n",
       "      <td>0.0</td>\n",
       "      <td>-1.229357</td>\n",
       "      <td>-1.758729</td>\n",
       "      <td>-0.934645</td>\n",
       "      <td>-0.668913</td>\n",
       "      <td>0.002540</td>\n",
       "      <td>-0.713532</td>\n",
       "      <td>0.554212</td>\n",
       "      <td>-0.205999</td>\n",
       "      <td>-0.414116</td>\n",
       "      <td>-0.597709</td>\n",
       "      <td>-0.115701</td>\n",
       "      <td>-0.716395</td>\n",
       "      <td>0.123924</td>\n",
       "    </tr>\n",
       "  </tbody>\n",
       "</table>\n",
       "</div>"
      ],
      "text/plain": [
       "       0    1    2         3         4         5         6         7   \\\n",
       "0  1890.0  1.0  0.0  1.325174 -0.596466 -0.026240  0.220471 -0.946889   \n",
       "1  1936.0  0.0  1.0 -0.945520  0.067684  1.632296 -0.538470 -0.494453   \n",
       "2  2089.0  1.0  0.0 -0.661683 -0.015335 -0.448337 -0.348735  0.242468   \n",
       "3  2110.0  1.0  0.0  0.757501 -0.762504 -0.690166 -1.155110 -1.351339   \n",
       "4  2259.0  1.0  0.0 -1.229357 -1.758729 -0.934645 -0.668913  0.002540   \n",
       "\n",
       "         8         9         10        11        12        13        14  \\\n",
       "0  0.125720  1.152248  1.061059  1.133625  0.712520 -1.099594  1.432088   \n",
       "1 -1.265175  0.387059 -1.358391 -0.284778 -0.767869 -1.080673 -0.593524   \n",
       "2  1.266725  0.925663  1.049592  0.323109  0.865663 -1.099594  0.687842   \n",
       "3 -1.321753 -0.578715 -0.962794  0.167904 -0.002151  0.716824 -0.312677   \n",
       "4 -0.713532  0.554212 -0.205999 -0.414116 -0.597709 -0.115701 -0.716395   \n",
       "\n",
       "         15  \n",
       "0  0.646880  \n",
       "1  0.897309  \n",
       "2 -0.023387  \n",
       "3 -0.391666  \n",
       "4  0.123924  "
      ]
     },
     "execution_count": 29,
     "metadata": {},
     "output_type": "execute_result"
    }
   ],
   "source": [
    "train_features.head()"
   ]
  },
  {
   "cell_type": "code",
   "execution_count": 28,
   "metadata": {
    "collapsed": false
   },
   "outputs": [
    {
     "data": {
      "text/html": [
       "<div>\n",
       "<table border=\"1\" class=\"dataframe\">\n",
       "  <thead>\n",
       "    <tr style=\"text-align: right;\">\n",
       "      <th></th>\n",
       "      <th>true classification</th>\n",
       "      <th>user_id</th>\n",
       "      <th>Position: High Speed Contact</th>\n",
       "      <th>Low-Speed Contact Pos.</th>\n",
       "      <th># Seasons</th>\n",
       "      <th>Age</th>\n",
       "      <th>Variation Among Tasks</th>\n",
       "      <th>oneMean</th>\n",
       "      <th>twoMean</th>\n",
       "      <th>threeMean</th>\n",
       "      <th>sixMean</th>\n",
       "      <th>sevenMean</th>\n",
       "      <th>nineMean</th>\n",
       "      <th>tenMean</th>\n",
       "      <th>twelveMean</th>\n",
       "      <th>thirtMean</th>\n",
       "      <th>fourtMean</th>\n",
       "    </tr>\n",
       "  </thead>\n",
       "  <tbody>\n",
       "    <tr>\n",
       "      <th>0</th>\n",
       "      <td>1</td>\n",
       "      <td>1890.0</td>\n",
       "      <td>1.0</td>\n",
       "      <td>0.0</td>\n",
       "      <td>1.325174</td>\n",
       "      <td>-0.596466</td>\n",
       "      <td>-0.026240</td>\n",
       "      <td>0.220471</td>\n",
       "      <td>-0.946889</td>\n",
       "      <td>0.125720</td>\n",
       "      <td>1.152248</td>\n",
       "      <td>1.061059</td>\n",
       "      <td>1.133625</td>\n",
       "      <td>0.712520</td>\n",
       "      <td>-1.099594</td>\n",
       "      <td>1.432088</td>\n",
       "      <td>0.646880</td>\n",
       "    </tr>\n",
       "    <tr>\n",
       "      <th>1</th>\n",
       "      <td>1</td>\n",
       "      <td>1936.0</td>\n",
       "      <td>0.0</td>\n",
       "      <td>1.0</td>\n",
       "      <td>-0.945520</td>\n",
       "      <td>0.067684</td>\n",
       "      <td>1.632296</td>\n",
       "      <td>-0.538470</td>\n",
       "      <td>-0.494453</td>\n",
       "      <td>-1.265175</td>\n",
       "      <td>0.387059</td>\n",
       "      <td>-1.358391</td>\n",
       "      <td>-0.284778</td>\n",
       "      <td>-0.767869</td>\n",
       "      <td>-1.080673</td>\n",
       "      <td>-0.593524</td>\n",
       "      <td>0.897309</td>\n",
       "    </tr>\n",
       "    <tr>\n",
       "      <th>2</th>\n",
       "      <td>1</td>\n",
       "      <td>2089.0</td>\n",
       "      <td>1.0</td>\n",
       "      <td>0.0</td>\n",
       "      <td>-0.661683</td>\n",
       "      <td>-0.015335</td>\n",
       "      <td>-0.448337</td>\n",
       "      <td>-0.348735</td>\n",
       "      <td>0.242468</td>\n",
       "      <td>1.266725</td>\n",
       "      <td>0.925663</td>\n",
       "      <td>1.049592</td>\n",
       "      <td>0.323109</td>\n",
       "      <td>0.865663</td>\n",
       "      <td>-1.099594</td>\n",
       "      <td>0.687842</td>\n",
       "      <td>-0.023387</td>\n",
       "    </tr>\n",
       "    <tr>\n",
       "      <th>3</th>\n",
       "      <td>1</td>\n",
       "      <td>2110.0</td>\n",
       "      <td>1.0</td>\n",
       "      <td>0.0</td>\n",
       "      <td>0.757501</td>\n",
       "      <td>-0.762504</td>\n",
       "      <td>-0.690166</td>\n",
       "      <td>-1.155110</td>\n",
       "      <td>-1.351339</td>\n",
       "      <td>-1.321753</td>\n",
       "      <td>-0.578715</td>\n",
       "      <td>-0.962794</td>\n",
       "      <td>0.167904</td>\n",
       "      <td>-0.002151</td>\n",
       "      <td>0.716824</td>\n",
       "      <td>-0.312677</td>\n",
       "      <td>-0.391666</td>\n",
       "    </tr>\n",
       "    <tr>\n",
       "      <th>4</th>\n",
       "      <td>1</td>\n",
       "      <td>2259.0</td>\n",
       "      <td>1.0</td>\n",
       "      <td>0.0</td>\n",
       "      <td>-1.229357</td>\n",
       "      <td>-1.758729</td>\n",
       "      <td>-0.934645</td>\n",
       "      <td>-0.668913</td>\n",
       "      <td>0.002540</td>\n",
       "      <td>-0.713532</td>\n",
       "      <td>0.554212</td>\n",
       "      <td>-0.205999</td>\n",
       "      <td>-0.414116</td>\n",
       "      <td>-0.597709</td>\n",
       "      <td>-0.115701</td>\n",
       "      <td>-0.716395</td>\n",
       "      <td>0.123924</td>\n",
       "    </tr>\n",
       "  </tbody>\n",
       "</table>\n",
       "</div>"
      ],
      "text/plain": [
       "   true classification  user_id  Position: High Speed Contact  \\\n",
       "0                    1   1890.0                           1.0   \n",
       "1                    1   1936.0                           0.0   \n",
       "2                    1   2089.0                           1.0   \n",
       "3                    1   2110.0                           1.0   \n",
       "4                    1   2259.0                           1.0   \n",
       "\n",
       "   Low-Speed Contact Pos.  # Seasons       Age  Variation Among Tasks  \\\n",
       "0                     0.0   1.325174 -0.596466              -0.026240   \n",
       "1                     1.0  -0.945520  0.067684               1.632296   \n",
       "2                     0.0  -0.661683 -0.015335              -0.448337   \n",
       "3                     0.0   0.757501 -0.762504              -0.690166   \n",
       "4                     0.0  -1.229357 -1.758729              -0.934645   \n",
       "\n",
       "    oneMean   twoMean  threeMean   sixMean  sevenMean  nineMean   tenMean  \\\n",
       "0  0.220471 -0.946889   0.125720  1.152248   1.061059  1.133625  0.712520   \n",
       "1 -0.538470 -0.494453  -1.265175  0.387059  -1.358391 -0.284778 -0.767869   \n",
       "2 -0.348735  0.242468   1.266725  0.925663   1.049592  0.323109  0.865663   \n",
       "3 -1.155110 -1.351339  -1.321753 -0.578715  -0.962794  0.167904 -0.002151   \n",
       "4 -0.668913  0.002540  -0.713532  0.554212  -0.205999 -0.414116 -0.597709   \n",
       "\n",
       "   twelveMean  thirtMean  fourtMean  \n",
       "0   -1.099594   1.432088   0.646880  \n",
       "1   -1.080673  -0.593524   0.897309  \n",
       "2   -1.099594   0.687842  -0.023387  \n",
       "3    0.716824  -0.312677  -0.391666  \n",
       "4   -0.115701  -0.716395   0.123924  "
      ]
     },
     "execution_count": 28,
     "metadata": {},
     "output_type": "execute_result"
    }
   ],
   "source": [
    "#turn arrays into dataframes to combine into one \n",
    "train_features = pd.DataFrame(f_trainFULL) #15 columns\n",
    "train_class = pd.DataFrame(t_trainFULL) #1 column\n",
    "trainingset = pd.merge(left=train_class, right=train_features, left_index=True, right_index=True)\n",
    "\n",
    "#then add column titles\n",
    "trainingset.columns = ['true classification','user_id','Position: High Speed Contact', 'Low-Speed Contact Pos.',\n",
    "     '# Seasons', 'Age', 'Variation Among Tasks', 'oneMean', \n",
    "     'twoMean', 'threeMean', 'sixMean','sevenMean',\n",
    "     'nineMean', 'tenMean', 'twelveMean', 'thirtMean','fourtMean'] \n",
    "\n",
    "# #now export to csv\n",
    "trainingset.to_csv('/Users/karigoodman/Dropbox/InsightHealthDataScience/projects/data/general/NFL_trainingData.csv')\n",
    "\n",
    "# ##turn user_id to integer\n",
    "# trainingset1['user_id'].astype(int)\n",
    "trainingset.head()"
   ]
  },
  {
   "cell_type": "code",
   "execution_count": null,
   "metadata": {
    "collapsed": true
   },
   "outputs": [],
   "source": [
    "#print training data to csv\n",
    "probsDF_userClass1 = pd.merge(left=test_userID_class, right=probsDF, left_index=True, right_index=True)\n",
    "probsDF_userClass2 = pd.merge(left=probsDF_userClass1, right=predicted, left_index=True, right_index=True)\n",
    "probsDF_userClass = pd.merge(left=probsDF_userClass2, right=variables, left_index=True, right_index=True)\n",
    "# probsDF_userClass.columns = ['user_id', 'true classification', 'Probability of Not Impaired Classification',\n",
    "#     'Probability of Impaired Classification', 'Predicted Class', 'Position: High Speed Contact', 'LSC',\n",
    "#     '# Seasons', 'Age', 'Variation Among Tasks', 'Recall Memory (Visual)', \n",
    "#     'Recall Memory (Auditory)', 'threeMean', 'sixMean','Working Memory (Spatial Pattern Recall)',\n",
    "#     'nineMean', 'Visual Information Processing', 'Multi-Systems Integration', 'thirtMean','fourtMean'] \n",
    "\n",
    "probsDF_userClass.columns = ['user_id', 'true classification', 'Probability of Not Impaired Classification',\n",
    "     'Probability of Impaired Classification', 'Predicted Class', 'Position: High Speed Contact', 'Low-Speed Contact Pos.',\n",
    "     '# Seasons', 'Age', 'Variation Among Tasks', 'oneMean', \n",
    "     'twoMean', 'threeMean', 'sixMean','sevenMean',\n",
    "     'nineMean', 'tenMean', 'twelveMean', 'thirtMean','fourtMean'] \n",
    "\n",
    "probsDF_userClass.head(31)\n",
    "\n",
    "probsDF_userClass.to_csv('/Users/karigoodman/Dropbox/InsightHealthDataScience/projects/data/general/NFL_testData.csv')\n"
   ]
  },
  {
   "cell_type": "code",
   "execution_count": 38,
   "metadata": {
    "collapsed": false
   },
   "outputs": [],
   "source": [
    "# predict class probabilities for the test set and compare to real labels with user IDs\n",
    "probs = model_fit.predict_proba(f_testFULL)\n",
    "probsDF = pd.DataFrame(probs)\n",
    "\n",
    "predi = model_fit.predict(f_testFULL)\n",
    "predicted = pd.DataFrame(predi)\n",
    "\n",
    "variables = pd.DataFrame(f_testFULL)\n",
    "\n",
    "probsDF_userClass1 = pd.merge(left=test_userID_class, right=probsDF, left_index=True, right_index=True)\n",
    "probsDF_userClass2 = pd.merge(left=probsDF_userClass1, right=predicted, left_index=True, right_index=True)\n",
    "probsDF_userClass = pd.merge(left=probsDF_userClass2, right=variables, left_index=True, right_index=True)\n",
    "# probsDF_userClass.columns = ['user_id', 'true classification', 'Probability of Not Impaired Classification',\n",
    "#     'Probability of Impaired Classification', 'Predicted Class', 'Position: High Speed Contact', 'LSC',\n",
    "#     '# Seasons', 'Age', 'Variation Among Tasks', 'Recall Memory (Visual)', \n",
    "#     'Recall Memory (Auditory)', 'threeMean', 'sixMean','Working Memory (Spatial Pattern Recall)',\n",
    "#     'nineMean', 'Visual Information Processing', 'Multi-Systems Integration', 'thirtMean','fourtMean'] \n",
    "\n",
    "probsDF_userClass.columns = ['user_id', 'true classification', 'Probability of Not Impaired Classification',\n",
    "     'Probability of Impaired Classification', 'Predicted Class', 'Position: High Speed Contact', 'Low-Speed Contact Pos.',\n",
    "     '# Seasons', 'Age', 'Variation Among Tasks', 'oneMean', \n",
    "     'twoMean', 'threeMean', 'sixMean','sevenMean',\n",
    "     'nineMean', 'tenMean', 'twelveMean', 'thirtMean','fourtMean'] \n",
    "\n",
    "#probsDF_userClass.head(31)\n",
    "\n",
    "#probsDF_userClass.to_csv('/Users/karigoodman/Dropbox/InsightHealthDataScience/projects/data/general/NFL_testData.csv')\n",
    "\n",
    "##eightMean?\n",
    "\n",
    "# 'HSC', 'LSC', 'Seasons', 'age', 'var_ofMean', 'oneMean', 'twoMean', \n",
    "#                     'threeMean',  'sixMean', 'sevenMean',\n",
    "#                     'eightMean', 'nineMean', 'tenMean',  'twelMean', 'thirtMean',\n",
    "#                     'fourtMean'"
   ]
  },
  {
   "cell_type": "code",
   "execution_count": 105,
   "metadata": {
    "collapsed": false
   },
   "outputs": [
    {
     "data": {
      "text/plain": [
       "<seaborn.axisgrid.FacetGrid at 0x115337750>"
      ]
     },
     "execution_count": 105,
     "metadata": {},
     "output_type": "execute_result"
    },
    {
     "data": {
      "image/png": "[encoded data removed]",
      "text/plain": [
       "<matplotlib.figure.Figure at 0x1164a5150>"
      ]
     },
     "metadata": {},
     "output_type": "display_data"
    },
    {
     "data": {
      "image/png": "[encoded data removed]",
      "text/plain": [
       "<matplotlib.figure.Figure at 0x115f1c5d0>"
      ]
     },
     "metadata": {},
     "output_type": "display_data"
    },
    {
     "data": {
      "image/png": "[encoded data removed]",
      "text/plain": [
       "<matplotlib.figure.Figure at 0x1164a50d0>"
      ]
     },
     "metadata": {},
     "output_type": "display_data"
    }
   ],
   "source": [
    "#fig, (ax1, ax2, ax3) = plt.subplots(ncols=3, sharey=True) #, ax2, ax3\n",
    "sns.lmplot(x=\"Working Memory (Spatial Pattern Recall)\", y=\"Probability of Impaired Classification\", data=probsDF_userClass,\n",
    "                  logistic=True, n_boot=500, x_jitter=.03, ci=100)\n",
    "sns.lmplot(x=\"Recall Memory (Auditory)\", y=\"Probability of Impaired Classification\", data=probsDF_userClass,\n",
    "                  logistic=True, n_boot=500, x_jitter=.03, ci=100)\n",
    "sns.lmplot(x=\"Recall Memory (Visual)\", y=\"Probability of Impaired Classification\", data=probsDF_userClass,\n",
    "                  logistic=True, n_boot=500, x_jitter=.03, ci=100)"
   ]
  },
  {
   "cell_type": "markdown",
   "metadata": {},
   "source": [
    "### Model elvaluation: predict the class labels for the test set, calculate accuracy, precision, recall, fscore and the confusion matrix"
   ]
  },
  {
   "cell_type": "code",
   "execution_count": 18,
   "metadata": {
    "collapsed": false
   },
   "outputs": [
    {
     "data": {
      "text/plain": [
       "array([1, 1, 1, 1, 1, 1, 0, 1, 0, 1, 1, 1, 1, 1, 1, 1, 0, 0, 1, 1, 1, 0, 1,\n",
       "       1, 1, 0, 0, 0, 1, 1, 1])"
      ]
     },
     "execution_count": 18,
     "metadata": {},
     "output_type": "execute_result"
    }
   ],
   "source": [
    "# predict class labels for the test set\n",
    "predictedLR = model_fit.predict(f_testFULL)\n",
    "predictedLR\n",
    "#metrics.f1_score(t_testFULL, predicted)\n",
    "#use F1 when you have imbalanced data"
   ]
  },
  {
   "cell_type": "code",
   "execution_count": 151,
   "metadata": {
    "collapsed": false
   },
   "outputs": [
    {
     "data": {
      "text/plain": [
       "0.80645161290322576"
      ]
     },
     "execution_count": 151,
     "metadata": {},
     "output_type": "execute_result"
    }
   ],
   "source": [
    "accuracy_score(t_testFULL, predictedLR)"
   ]
  },
  {
   "cell_type": "code",
   "execution_count": 153,
   "metadata": {
    "collapsed": false
   },
   "outputs": [],
   "source": [
    "confusionMatrixLR = confusion_matrix(t_testFULL, predictedLR)\n",
    "cm = pd.DataFrame(confusionMatrixLR)"
   ]
  },
  {
   "cell_type": "code",
   "execution_count": 154,
   "metadata": {
    "collapsed": false
   },
   "outputs": [
    {
     "data": {
      "text/plain": [
       "array([[ 7,  5],\n",
       "       [ 1, 18]])"
      ]
     },
     "execution_count": 154,
     "metadata": {},
     "output_type": "execute_result"
    }
   ],
   "source": [
    "confusionMatrixLR"
   ]
  },
  {
   "cell_type": "code",
   "execution_count": 155,
   "metadata": {
    "collapsed": false
   },
   "outputs": [
    {
     "data": {
      "text/plain": [
       "<matplotlib.axes._subplots.AxesSubplot at 0x114f1de50>"
      ]
     },
     "execution_count": 155,
     "metadata": {},
     "output_type": "execute_result"
    },
    {
     "data": {
      "image/png": "[encoded data removed]",
      "text/plain": [
       "<matplotlib.figure.Figure at 0x1151c04d0>"
      ]
     },
     "metadata": {},
     "output_type": "display_data"
    }
   ],
   "source": [
    "from sklearn.metrics import confusion_matrix\n",
    "import pandas as pd\n",
    "import seaborn as sns\n",
    "\n",
    "\n",
    "plt.figure(figsize = (10,7))\n",
    "sns.heatmap(cm, annot=False)\n",
    "\n",
    "#ax = sns.heatmap(confusion_matrix_flat, annot=False, fmt=\"d\")"
   ]
  },
  {
   "cell_type": "code",
   "execution_count": 23,
   "metadata": {
    "collapsed": false
   },
   "outputs": [
    {
     "name": "stderr",
     "output_type": "stream",
     "text": [
      "/Applications/anaconda/lib/python2.7/site-packages/sklearn/metrics/classification.py:976: DeprecationWarning: From version 0.18, binary input will not be handled specially when using averaged precision/recall/F-score. Please use average='binary' to report only the positive class performance.\n",
      "  'positive class performance.', DeprecationWarning)\n"
     ]
    },
    {
     "data": {
      "text/plain": [
       "(0.78260869565217395, 0.94736842105263153, 0.8571428571428571, None)"
      ]
     },
     "execution_count": 23,
     "metadata": {},
     "output_type": "execute_result"
    }
   ],
   "source": [
    "precision_recall_fscore_support(t_testFULL, predictedLR, average='micro')"
   ]
  },
  {
   "cell_type": "code",
   "execution_count": 24,
   "metadata": {
    "collapsed": false
   },
   "outputs": [
    {
     "data": {
      "text/plain": [
       "array([ 1.        ,  0.94736842,  0.        ])"
      ]
     },
     "execution_count": 24,
     "metadata": {},
     "output_type": "execute_result"
    }
   ],
   "source": [
    "precisionLR, recallLR, thresholds = precision_recall_curve(t_testFULL, predictedLR)\n",
    "recallLR"
   ]
  },
  {
   "cell_type": "code",
   "execution_count": null,
   "metadata": {
    "collapsed": false
   },
   "outputs": [],
   "source": [
    "roc_curve(t_testFULL, predicted)"
   ]
  },
  {
   "cell_type": "code",
   "execution_count": 27,
   "metadata": {
    "collapsed": false
   },
   "outputs": [
    {
     "data": {
      "text/plain": [
       "array([  2.46306621e+00,   1.96812765e+00,   2.49066928e+00,\n",
       "         2.32328400e+00,   1.59627209e-01,   6.34379836e-01,\n",
       "        -6.65675891e-01,   9.68266004e-01,  -1.70699523e+00,\n",
       "         3.49176047e-01,   1.31533118e+00,   1.66113837e+00,\n",
       "         9.66543309e-04,   4.98141150e-01,   5.61553132e-01,\n",
       "         1.63530354e+00,  -8.03925898e-01,  -5.20471865e-01,\n",
       "         1.07314006e+00,   2.06360148e+00,   2.27425227e+00,\n",
       "        -1.94782113e-01,   2.38026758e+00,   7.17436248e-01,\n",
       "         8.44104756e-01,  -2.25203391e-01,  -4.28120760e-01,\n",
       "        -7.11475661e-02,   1.87232826e+00,   2.23754855e-01,\n",
       "         2.48173970e+00])"
      ]
     },
     "execution_count": 27,
     "metadata": {},
     "output_type": "execute_result"
    }
   ],
   "source": [
    "## get test set probabilities to calculate AUC under ROC\n",
    "y_scoreLR = model_fit.decision_function(f_testFULL)"
   ]
  },
  {
   "cell_type": "code",
   "execution_count": 26,
   "metadata": {
    "collapsed": false
   },
   "outputs": [
    {
     "data": {
      "text/plain": [
       "0.86842105263157887"
      ]
     },
     "execution_count": 26,
     "metadata": {},
     "output_type": "execute_result"
    }
   ],
   "source": [
    "fprLR, tprLR, thresholds = roc_curve(t_testFULL, y_scoreLR)\n",
    "roc_auc_testLR = auc(fprLR, tprLR)\n",
    "roc_auc_testLR"
   ]
  },
  {
   "cell_type": "code",
   "execution_count": 136,
   "metadata": {
    "collapsed": false
   },
   "outputs": [
    {
     "data": {
      "text/plain": [
       "0.86842105263157887"
      ]
     },
     "execution_count": 136,
     "metadata": {},
     "output_type": "execute_result"
    }
   ],
   "source": [
    "auc = metrics.auc(fprLR,tprLR)\n",
    "auc"
   ]
  },
  {
   "cell_type": "code",
   "execution_count": 140,
   "metadata": {
    "collapsed": false
   },
   "outputs": [
    {
     "data": {
      "text/plain": [
       "array([ 0.05263158,  0.47368421,  0.47368421,  0.68421053,  0.68421053,\n",
       "        0.73684211,  0.73684211,  0.84210526,  0.84210526,  0.94736842,\n",
       "        0.94736842,  1.        ,  1.        ])"
      ]
     },
     "execution_count": 140,
     "metadata": {},
     "output_type": "execute_result"
    }
   ],
   "source": [
    "tprLR"
   ]
  },
  {
   "cell_type": "markdown",
   "metadata": {},
   "source": [
    "### Plotting the ROC curves from the logistic regression model against random forest and SVM (code for these models is below)"
   ]
  },
  {
   "cell_type": "code",
   "execution_count": 139,
   "metadata": {
    "collapsed": false
   },
   "outputs": [
    {
     "data": {
      "image/png": "[encoded data removed]",
      "text/plain": [
       "<matplotlib.figure.Figure at 0x11526c050>"
      ]
     },
     "metadata": {},
     "output_type": "display_data"
    }
   ],
   "source": [
    "# Plot of a ROC curve for a specific class\n",
    "plt.figure()\n",
    "sns.set(font_scale=2)\n",
    "\n",
    "#plot logistic regression\n",
    "plt.plot(fprLR, tprLR, linewidth=3.0, label='logistic regression (AUC = %0.2f)' % roc_auc_testLR)\n",
    "#plot random forest\n",
    "plt.plot(fprRF, tprRF, linewidth=3.0, label='random forest (AUC = %0.2f)' % roc_auc_testRF)\n",
    "#plot SVM\n",
    "plt.plot(fprSVM, tprSVM, linewidth=3.0, label='SVM (AUC = %0.2f)' % roc_auc_testSVM)\n",
    "\n",
    "plt.plot([0, 1], [0, 1], 'k--')\n",
    "plt.xlim([0.0, 1.0])\n",
    "plt.ylim([0.0, 1.05])\n",
    "plt.xlabel('False Positive Rate')\n",
    "plt.ylabel('True Positive Rate')\n",
    "plt.title('ROC Curve')\n",
    "plt.legend(loc=\"lower right\", prop={'size':15})\n",
    "\n",
    "plt.show()"
   ]
  },
  {
   "cell_type": "code",
   "execution_count": null,
   "metadata": {
    "collapsed": true
   },
   "outputs": [],
   "source": [
    "#from statsmodels, try logit for comparison"
   ]
  },
  {
   "cell_type": "code",
   "execution_count": null,
   "metadata": {
    "collapsed": false
   },
   "outputs": [],
   "source": [
    "logit = sm.Logit(t_trainFULL, f_trainFULL)\n",
    "\n",
    "# fit the model\n",
    "#result = logit.fit()\n",
    "#print result.summary()"
   ]
  },
  {
   "cell_type": "markdown",
   "metadata": {
    "collapsed": true
   },
   "source": [
    "### Random Forest"
   ]
  },
  {
   "cell_type": "code",
   "execution_count": 96,
   "metadata": {
    "collapsed": false
   },
   "outputs": [
    {
     "name": "stderr",
     "output_type": "stream",
     "text": [
      "/Applications/anaconda/lib/python2.7/site-packages/ipykernel/__main__.py:21: DataConversionWarning: A column-vector y was passed when a 1d array was expected. Please change the shape of y to (n_samples,), for example using ravel().\n"
     ]
    },
    {
     "name": "stdout",
     "output_type": "stream",
     "text": [
      "0.731707317073\n"
     ]
    }
   ],
   "source": [
    "from sklearn.ensemble import RandomForestClassifier\n",
    "from sklearn import preprocessing\n",
    "\n",
    "from sklearn.cross_validation import train_test_split\n",
    "\n",
    "# Set the seed\n",
    "np.random.seed(12)\n",
    "\n",
    "# Initialize the model\n",
    "rf_model = RandomForestClassifier(n_estimators=1000, # Number of trees\n",
    "                                  max_features=5,    # Num features considered\n",
    "                                  oob_score=True)    # Use OOB scoring*\n",
    "# Train the model\n",
    "rf_model.fit(X=f_trainFULL[:,[0,5,6,9,11,12]],\n",
    "             y=t_trainFULL)\n",
    "\n",
    "#print(\"OOB accuracy: \")\n",
    "print(rf_model.oob_score_)\n",
    "\n",
    "#feature importance\n",
    "# for feature, imp in zip(features, rf_model.feature_importances_):\n",
    "#     print(feature, imp)"
   ]
  },
  {
   "cell_type": "markdown",
   "metadata": {},
   "source": [
    "### Evaluate the model using 10-fold cross-validation"
   ]
  },
  {
   "cell_type": "code",
   "execution_count": 128,
   "metadata": {
    "collapsed": false
   },
   "outputs": [
    {
     "name": "stdout",
     "output_type": "stream",
     "text": [
      "[ 0.69230769  0.76923077  0.53846154  0.84615385  0.75        0.83333333\n",
      "  0.66666667  0.58333333  0.66666667  0.81818182]\n",
      "0.716433566434\n"
     ]
    }
   ],
   "source": [
    "cv_scoresRF = cross_val_score(RandomForestClassifier(), f_trainFULL[:,[0,5,6,9,11,12]], y_arr, scoring='accuracy', cv=10)\n",
    "print cv_scoresRF\n",
    "print cv_scoresRF.mean()"
   ]
  },
  {
   "cell_type": "markdown",
   "metadata": {},
   "source": [
    "### Model evaluation: predict the class labels for the test set, calculate accuracy, precision, recall, fscore and the confusion matrix"
   ]
  },
  {
   "cell_type": "code",
   "execution_count": 100,
   "metadata": {
    "collapsed": false
   },
   "outputs": [],
   "source": [
    "predictedRF = rf_model.predict(f_testFULL[:,[0,5,6,9,11,12]])"
   ]
  },
  {
   "cell_type": "code",
   "execution_count": 101,
   "metadata": {
    "collapsed": false
   },
   "outputs": [
    {
     "data": {
      "text/plain": [
       "0.67741935483870963"
      ]
     },
     "execution_count": 101,
     "metadata": {},
     "output_type": "execute_result"
    }
   ],
   "source": [
    "from sklearn.metrics import auc, accuracy_score, confusion_matrix, precision_recall_fscore_support, roc_curve\n",
    "\n",
    "accuracy_score(t_testFULL, predictedRF)"
   ]
  },
  {
   "cell_type": "code",
   "execution_count": 102,
   "metadata": {
    "collapsed": false
   },
   "outputs": [
    {
     "name": "stderr",
     "output_type": "stream",
     "text": [
      "/Applications/anaconda/lib/python2.7/site-packages/sklearn/metrics/classification.py:976: DeprecationWarning: From version 0.18, binary input will not be handled specially when using averaged precision/recall/F-score. Please use average='binary' to report only the positive class performance.\n",
      "  'positive class performance.', DeprecationWarning)\n"
     ]
    },
    {
     "data": {
      "text/plain": [
       "(0.68000000000000005, 0.89473684210526316, 0.77272727272727271, None)"
      ]
     },
     "execution_count": 102,
     "metadata": {},
     "output_type": "execute_result"
    }
   ],
   "source": [
    "precision_recall_fscore_support(t_testFULL, predictedRF, average='micro')"
   ]
  },
  {
   "cell_type": "code",
   "execution_count": 103,
   "metadata": {
    "collapsed": false
   },
   "outputs": [
    {
     "data": {
      "text/plain": [
       "array([[ 4,  8],\n",
       "       [ 2, 17]])"
      ]
     },
     "execution_count": 103,
     "metadata": {},
     "output_type": "execute_result"
    }
   ],
   "source": [
    "confusion_matrixRF = confusion_matrix(t_testFULL, predictedRF)\n",
    "confusion_matrixRF"
   ]
  },
  {
   "cell_type": "code",
   "execution_count": 104,
   "metadata": {
    "collapsed": false
   },
   "outputs": [
    {
     "data": {
      "text/plain": [
       "array([1, 1, 1, 1, 1, 1, 0, 1, 0, 1, 1, 1, 1, 1, 1, 1, 0, 1, 1, 1, 1, 0, 1,\n",
       "       1, 1, 1, 0, 1, 1, 0, 1])"
      ]
     },
     "execution_count": 104,
     "metadata": {},
     "output_type": "execute_result"
    }
   ],
   "source": [
    "predictedRF"
   ]
  },
  {
   "cell_type": "markdown",
   "metadata": {},
   "source": [
    "### Use probabilities to calculate auc score"
   ]
  },
  {
   "cell_type": "code",
   "execution_count": 106,
   "metadata": {
    "collapsed": false
   },
   "outputs": [],
   "source": [
    "probsRF = rf_model.predict_proba(f_testFULL[:,[0,5,6,9,11,12]])\n",
    "#probsRF"
   ]
  },
  {
   "cell_type": "markdown",
   "metadata": {},
   "source": [
    "here replacing predictedRF with probsRF"
   ]
  },
  {
   "cell_type": "code",
   "execution_count": 107,
   "metadata": {
    "collapsed": false
   },
   "outputs": [
    {
     "data": {
      "text/plain": [
       "0.70833333333333326"
      ]
     },
     "execution_count": 107,
     "metadata": {},
     "output_type": "execute_result"
    }
   ],
   "source": [
    "roc_curve(t_testFULL, probsRF[:,[1]])\n",
    "fprRF, tprRF, _ = roc_curve(t_testFULL, probsRF[:,[1]])\n",
    "roc_auc_testRF = auc(fprRF, tprRF)\n",
    "roc_auc_testRF"
   ]
  },
  {
   "cell_type": "markdown",
   "metadata": {
    "collapsed": false
   },
   "source": [
    "### Support Vector Machines (SVM)"
   ]
  },
  {
   "cell_type": "code",
   "execution_count": 141,
   "metadata": {
    "collapsed": false
   },
   "outputs": [],
   "source": [
    "#just taking the subset of columns identified in the logistic regression\n",
    "X = f_trainFULL[:,[0,5,6,9,11,12]]\n",
    "y = t_trainFULL"
   ]
  },
  {
   "cell_type": "code",
   "execution_count": 142,
   "metadata": {
    "collapsed": false
   },
   "outputs": [
    {
     "name": "stdout",
     "output_type": "stream",
     "text": [
      "0.772357723577 0.806451612903\n"
     ]
    },
    {
     "name": "stderr",
     "output_type": "stream",
     "text": [
      "/Applications/anaconda/lib/python2.7/site-packages/sklearn/svm/base.py:514: DataConversionWarning: A column-vector y was passed when a 1d array was expected. Please change the shape of y to (n_samples, ), for example using ravel().\n",
      "  y_ = column_or_1d(y, warn=True)\n"
     ]
    }
   ],
   "source": [
    "from sklearn import svm\n",
    "\n",
    "# Create SVM classification object \n",
    "svm_model = svm.SVC(kernel='linear', C=0.1, gamma=1, random_state=5, probability=True) \n",
    "svm_model.fit(X, y)\n",
    "#score = model.score(X, y)\n",
    "#Predict Output\n",
    "predictedSVM = svm_model.predict(f_testFULL[:,[0,5,6,9,11,12]])\n",
    "\n",
    "print svm_model.score(X, y), svm_model.score(f_testFULL[:,[0,5,6,9,11,12]], t_testFULL)"
   ]
  },
  {
   "cell_type": "markdown",
   "metadata": {},
   "source": [
    "### Evaluate the model using 10-fold cross-validation"
   ]
  },
  {
   "cell_type": "code",
   "execution_count": 143,
   "metadata": {
    "collapsed": false
   },
   "outputs": [
    {
     "name": "stdout",
     "output_type": "stream",
     "text": [
      "[ 0.84615385  0.84615385  0.61538462  0.61538462  0.83333333  0.66666667\n",
      "  0.5         0.66666667  0.91666667  0.72727273]\n",
      "0.723368298368\n"
     ]
    }
   ],
   "source": [
    "svm_cv_scores = cross_val_score(svm.SVC(kernel='linear', C=0.1, gamma=1, random_state=5), \n",
    "                            f_trainFULL[:,[0,5,6,9,11,12]], y_arr, scoring='accuracy', cv=10)\n",
    "print svm_cv_scores\n",
    "print svm_cv_scores.mean()"
   ]
  },
  {
   "cell_type": "code",
   "execution_count": 144,
   "metadata": {
    "collapsed": false
   },
   "outputs": [
    {
     "name": "stdout",
     "output_type": "stream",
     "text": [
      "[1 1 1 1 1 1 0 1 0 1 1 1 1 1 1 1 0 0 1 1 1 0 1 1 1 0 0 0 1 1 1]\n"
     ]
    }
   ],
   "source": [
    "# predict class labels for the test set\n",
    "predictedSVM = svm_model.predict(f_testFULL[:,[0,5,6,9,11,12]])\n",
    "print predictedSVM"
   ]
  },
  {
   "cell_type": "markdown",
   "metadata": {},
   "source": [
    "### Model evaluation: calculating precision, recall, fscore, accuracy, auc and confusion matrix"
   ]
  },
  {
   "cell_type": "code",
   "execution_count": 145,
   "metadata": {
    "collapsed": false
   },
   "outputs": [
    {
     "name": "stderr",
     "output_type": "stream",
     "text": [
      "/Applications/anaconda/lib/python2.7/site-packages/sklearn/metrics/classification.py:976: DeprecationWarning: From version 0.18, binary input will not be handled specially when using averaged precision/recall/F-score. Please use average='binary' to report only the positive class performance.\n",
      "  'positive class performance.', DeprecationWarning)\n"
     ]
    },
    {
     "data": {
      "text/plain": [
       "(0.78260869565217395, 0.94736842105263153, 0.8571428571428571, None)"
      ]
     },
     "execution_count": 145,
     "metadata": {},
     "output_type": "execute_result"
    }
   ],
   "source": [
    "precision_recall_fscore_support(t_testFULL, predictedSVM, average='micro')"
   ]
  },
  {
   "cell_type": "code",
   "execution_count": 146,
   "metadata": {
    "collapsed": false
   },
   "outputs": [
    {
     "data": {
      "text/plain": [
       "0.80645161290322576"
      ]
     },
     "execution_count": 146,
     "metadata": {},
     "output_type": "execute_result"
    }
   ],
   "source": [
    "from sklearn.metrics import auc, accuracy_score, confusion_matrix, precision_recall_fscore_support, roc_curve\n",
    "## accuracy on test session\n",
    "\n",
    "accuracySVM = accuracy_score(t_testFULL, predictedSVM)\n",
    "accuracySVM"
   ]
  },
  {
   "cell_type": "markdown",
   "metadata": {
    "collapsed": false
   },
   "source": [
    "### Calculating predicted probabilities to use for the auc score"
   ]
  },
  {
   "cell_type": "code",
   "execution_count": 147,
   "metadata": {
    "collapsed": false
   },
   "outputs": [],
   "source": [
    "probsSVM = svm_model.predict_proba(f_testFULL[:,[0,5,6,9,11,12]])"
   ]
  },
  {
   "cell_type": "code",
   "execution_count": 148,
   "metadata": {
    "collapsed": false
   },
   "outputs": [
    {
     "data": {
      "text/plain": [
       "0.88157894736842102"
      ]
     },
     "execution_count": 148,
     "metadata": {},
     "output_type": "execute_result"
    }
   ],
   "source": [
    "roc_curve(t_testFULL, probsSVM[:,[1]])\n",
    "fprSVM, tprSVM, _ = roc_curve(t_testFULL, probsSVM[:,[1]])\n",
    "roc_auc_testSVM = auc(fprSVM, tprSVM)\n",
    "roc_auc_testSVM"
   ]
  },
  {
   "cell_type": "code",
   "execution_count": 93,
   "metadata": {
    "collapsed": false
   },
   "outputs": [
    {
     "data": {
      "text/plain": [
       "array([[ 7,  5],\n",
       "       [ 1, 18]])"
      ]
     },
     "execution_count": 93,
     "metadata": {},
     "output_type": "execute_result"
    }
   ],
   "source": [
    "confusion_matrixSVM = confusion_matrix(t_testFULL, predictedSVM)\n",
    "confusion_matrixSVM"
   ]
  },
  {
   "cell_type": "code",
   "execution_count": 94,
   "metadata": {
    "collapsed": false
   },
   "outputs": [
    {
     "data": {
      "text/plain": [
       "array([[ 0.27764839, -0.45154031, -0.43544965, -0.44932451,  0.12049489,\n",
       "        -0.22406452]])"
      ]
     },
     "execution_count": 94,
     "metadata": {},
     "output_type": "execute_result"
    }
   ],
   "source": [
    "svm_model.coef_"
   ]
  },
  {
   "cell_type": "code",
   "execution_count": 133,
   "metadata": {
    "collapsed": false
   },
   "outputs": [],
   "source": [
    "coef_transpose_svm = np.transpose(svm_model.coef_)\n",
    "features_svm = df2[['HSC','oneMean', 'twoMean', \n",
    "                    'sevenMean','tenMean','twelMean']]\n",
    "feature_nm_svm=list(features_svm)\n",
    "feature_names_svm = pd.DataFrame(feature_nm_svm)\n",
    "coefficients_svm = pd.DataFrame(coef_transpose_svm)\n",
    "feature_coef_svm = pd.merge(left=feature_names_svm, right=coefficients_svm, left_index=True, right_index=True)\n",
    "feature_coef_svm.columns = ['Model Features','coefficients'] \n",
    "sortedSVM = feature_coef_svm.sort_values(by='coefficients', ascending=0)\n",
    "sortedSVM_renamed = sorted_renamed = sortedSVM.replace({'Model Features': {'HSC':  'High-Speed Contact Position', \n",
    "                           'oneMean': \"Recall Memory (Visual)\", 'tenMean': 'Visual Information Processing',\n",
    "                           'twoMean': 'Recall Memory (Auditory)', 'sevenMean': 'Working Memory (Spatial Recall)', \n",
    "                           'twelMean': 'Multi-Systems Integration'}})"
   ]
  },
  {
   "cell_type": "code",
   "execution_count": 134,
   "metadata": {
    "collapsed": false
   },
   "outputs": [
    {
     "data": {
      "image/png": "[encoded data removed]",
      "text/plain": [
       "<matplotlib.figure.Figure at 0x115e71390>"
      ]
     },
     "metadata": {},
     "output_type": "display_data"
    }
   ],
   "source": [
    "import seaborn as sns\n",
    "sns.set_style(\"whitegrid\")\n",
    "tips = sns.load_dataset(\"tips\")\n",
    "\n",
    "sns.set(font_scale=1.5)\n",
    "ax = sns.barplot(x=\"coefficients\", y=\"Model Features\", data=sortedSVM_renamed)"
   ]
  }
 ],
 "metadata": {
  "anaconda-cloud": {},
  "kernelspec": {
   "display_name": "Python [default]",
   "language": "python",
   "name": "python2"
  },
  "language_info": {
   "codemirror_mode": {
    "name": "ipython",
    "version": 2
   },
   "file_extension": ".py",
   "mimetype": "text/x-python",
   "name": "python",
   "nbconvert_exporter": "python",
   "pygments_lexer": "ipython2",
   "version": "2.7.12"
  }
 },
 "nbformat": 4,
 "nbformat_minor": 0
}
